{
 "cells": [
  {
   "cell_type": "markdown",
   "source": [
    "## Aeronautical Occurrences Data Analytics Project\n",
    "This notebook will be our best friend until the end of our project. It will store all the code developed during this period and also explain each stage of development, the paths and choices made, as well as any tips or questions that arise during the process. 📝🤝\n",
    "\n",
    "\n",
    "> **⚠️Important⚠️**: This is a study project, which means that even with my best effort, it can -- and most certainly will -- contain some errors, as in all learning process. So please keep that in mind if using this notebook for any purpose."
   ],
   "metadata": {
    "collapsed": false
   },
   "id": "7451276edc5b7364"
  },
  {
   "cell_type": "markdown",
   "source": [
    "### 1. Introduction\n",
    "Since all countries must have an eye on what happens at their airfields, it wouldn't be any different within Brazil's airspace. This leads us to the **Brazilian Open Data Portal**, that can be accessed and explored by everyone through:\n",
    "```\n",
    "https://dados.gov.br/home\n",
    "```\n",
    "After a few minutes searching, one should be able to find a repository that gathers all public data shared by the brazilian government through this portal. To save some time, here's the link we must look for:\n",
    "```\n",
    "https://dados.gov.br/dados/conjuntos-dados/ocorrncias-aeronuticas\n",
    "```\n",
    "\n",
    "> Note: There's a syntax error on the URL that's been used by the brazilian government. *\"ocorrncias-aeronuticas\"* should be spelled *\"ocorrencias-aeronauticas\"*, so keep an eye for future changes"
   ],
   "metadata": {
    "collapsed": false
   },
   "id": "42459da350b88e1f"
  },
  {
   "cell_type": "markdown",
   "source": [
    "### 2. Getting into action 🏃\n",
    "After this briefily description, let's dive into our hands-on learning project. There's two main ways to gather our data from the source, we can:\n",
    "1. Download it manualy from their site\n",
    "2. Fetch the data from their API, which is built using Swagger\n",
    "\n",
    "Since the 1st one is a little to easy, we'll try to fetch the raw data that we need sending a request to the API. For doing thar we need to take a closer look into it's documentation, that can be found at:\n",
    "```\n",
    "https://dados.gov.br/swagger-ui/index.html#\n",
    "```\n",
    "Also, to be able to make requests to this API, we need a key token that can be generated as you log in to your account at the Data Portal homepage. Once we've done that, we should see something like a button to generate our key. Now that we have our key-token, let's get the data!"
   ],
   "metadata": {
    "collapsed": false
   },
   "id": "fdbeb16ff1e2de3e"
  },
  {
   "cell_type": "markdown",
   "source": [
    "### 2. Extraction\n",
    "In order to fetch, parse and manipulate our data, we must import some essential libraries such as `requests` to make HTTP Requests, and `pandas` to further data manipulation. We can also import `json` since we're to further manipulate JSON data, so here it goes.\n",
    "> Note: The ```import config``` statement is required in order to use confidential information that is stored in a config file, without sharing them as a push this repository to Github."
   ],
   "metadata": {
    "collapsed": false
   },
   "id": "5e78cb1b985a06a0"
  },
  {
   "cell_type": "code",
   "outputs": [],
   "source": [
    "import config\n",
    "import pandas as pd\n",
    "import requests\n",
    "import json"
   ],
   "metadata": {
    "collapsed": false,
    "ExecuteTime": {
     "end_time": "2024-03-27T16:05:20.356305Z",
     "start_time": "2024-03-27T16:05:19.707001Z"
    }
   },
   "id": "228e0ed71e4a6828",
   "execution_count": 1
  },
  {
   "cell_type": "markdown",
   "source": [
    "The code below makes a GET request to the government public data API using `requests`. For this GET request we're passing 2 arguments, the url itself and some headers such as shown bellow:\n",
    "```\n",
    "headers = {\n",
    "    'accept': 'application/json',\n",
    "    'chave-api-dados-abertos': 'YOUR_OPEN_DATA_KEY_API'\n",
    "}\n",
    "```\n",
    "For confidentiality matters I saved these headers in a config file as already mentioned above, but feel free to add your own key to fetch data, you'll just need to change the param `headers=config.headers` to `headers=headers`, if you decide to add the above snippet to your code. You can also pass these directly as argument for `headers` as:\n",
    "```\n",
    "response = requests.get(url, headers={\n",
    "                                 'accept': 'application/json',\n",
    "                                 'chave-api-dados-abertos': 'YOUR_OPEN_DATA_KEY_API'\n",
    "                                 }).json()\n",
    "```"
   ],
   "metadata": {
    "collapsed": false
   },
   "id": "ea212b41eaf72cf6"
  },
  {
   "cell_type": "code",
   "outputs": [
    {
     "name": "stdout",
     "output_type": "stream",
     "text": [
      "{\n",
      "    \"id\": \"6fe3fb07-51fb-496a-b3a1-8ef7ba5a3905\",\n",
      "    \"titulo\": \"Ocorr\\u00eancias Aeron\\u00e1uticas\",\n",
      "    \"organizacao\": \"agencia-nacional-de-aviacao-civil-anac\",\n",
      "    \"inventario\": null,\n",
      "    \"descricao\": \"Cont\\u00e9m dados das ocorr\\u00eancias aeron\\u00e1uticas enviadas pela For\\u00e7a A\\u00e9rea Brasileira por meio do CENIPA para a ANAC acrescido de informa\\u00e7\\u00f5es enriquecidas pela ANAC.\",\n",
      "    \"licenca\": \"odc-odbl\",\n",
      "    \"responsavel\": \"Assessoria de Seguran\\u00e7a Operacional - ASSOP\",\n",
      "    \"emailResponsavel\": \"assop@anac.gov.br\",\n",
      "    \"periodicidade\": \"DIARIA\",\n",
      "    \"temas\": [\n",
      "        {\n",
      "            \"name\": \"defesa-e-seguranca\",\n",
      "            \"title\": \"Defesa e Seguran\\u00e7a\"\n",
      "        },\n",
      "        {\n",
      "            \"name\": \"transportes-e-transito\",\n",
      "            \"title\": \"Transportes e Tr\\u00e2nsito\"\n",
      "        }\n",
      "    ],\n",
      "    \"tags\": [\n",
      "        {\n",
      "            \"id\": \"590faac4-b214-441e-a9ae-490be21d0166\",\n",
      "            \"name\": \"ANAC\",\n",
      "            \"display_name\": null\n",
      "        },\n",
      "        {\n",
      "            \"id\": \"824ec366-b036-4073-a88a-46cd15d6c93a\",\n",
      "            \"name\": \"Avia\\u00e7\\u00e3o Civil\",\n",
      "            \"display_name\": null\n",
      "        },\n",
      "        {\n",
      "            \"id\": \"60b7699d-9a26-433a-92b2-9c61460f8b7f\",\n",
      "            \"name\": \"Seguran\\u00e7a\",\n",
      "            \"display_name\": null\n",
      "        },\n",
      "        {\n",
      "            \"id\": \"14b3a544-9341-4a57-b8ed-3efe35f6c04a\",\n",
      "            \"name\": \"avia\\u00e7\\u00e3o\",\n",
      "            \"display_name\": null\n",
      "        }\n",
      "    ],\n",
      "    \"coberturaTemporalInicio\": null,\n",
      "    \"coberturaTemporalFim\": null,\n",
      "    \"coberturaEspacial\": null,\n",
      "    \"valorCoberturaEspacial\": null,\n",
      "    \"granularidadeEspacial\": null,\n",
      "    \"versao\": \"1\",\n",
      "    \"atualizacaoVersao\": false,\n",
      "    \"visibilidade\": \"PUBLICA\",\n",
      "    \"statusHomologacao\": \"HOMOLOGADO\",\n",
      "    \"descontinuado\": false,\n",
      "    \"dataDescontinuacao\": null,\n",
      "    \"reuso\": false,\n",
      "    \"recursos\": [\n",
      "        {\n",
      "            \"id\": \"6de61b5d-f8ce-437b-a549-515f9ef2d8c7\",\n",
      "            \"idConjuntoDados\": \"6fe3fb07-51fb-496a-b3a1-8ef7ba5a3905\",\n",
      "            \"titulo\": \"Metadados do conjunto de dados: Ocorr\\u00eancias Aeron\\u00e1uticas - HTML\",\n",
      "            \"link\": \"https://www.anac.gov.br/acesso-a-informacao/dados-abertos/areas-de-atuacao/seguranca-operacional/ocorrencias-aeronauticas/metadados-do-conjunto-de-dados-ocorrencias-aeronauticas\",\n",
      "            \"descricao\": \"Metadados do conjunto de dados: Ocorr\\u00eancias Aeron\\u00e1uticas em HTML\",\n",
      "            \"tipo\": \"DICIONARIO_DE_DADOS\",\n",
      "            \"formato\": \"HTML\"\n",
      "        },\n",
      "        {\n",
      "            \"id\": \"398a7b43-b3bb-470b-900e-53b28c0370dd\",\n",
      "            \"idConjuntoDados\": \"6fe3fb07-51fb-496a-b3a1-8ef7ba5a3905\",\n",
      "            \"titulo\": \"Arquivo: Seguran\\u00e7a Operacional - Ocorr\\u00eancias Aeron\\u00e1uticas - Formato CSV\",\n",
      "            \"link\": \"https://sistemas.anac.gov.br/dadosabertos/Seguranca%20Operacional/Ocorrencia/V_OCORRENCIA_AMPLA.csv\",\n",
      "            \"descricao\": \"Arquivo: Seguran\\u00e7a Operacional - Ocorr\\u00eancias Aeron\\u00e1uticas em formato CSV\",\n",
      "            \"tipo\": \"DADOS\",\n",
      "            \"formato\": \"CSV\"\n",
      "        },\n",
      "        {\n",
      "            \"id\": \"2f3b4b61-dbcc-4dee-bf22-db78eb82445e\",\n",
      "            \"idConjuntoDados\": \"6fe3fb07-51fb-496a-b3a1-8ef7ba5a3905\",\n",
      "            \"titulo\": \"Arquivo: Seguran\\u00e7a Operacional - Ocorr\\u00eancias Aeron\\u00e1uticas - Formato JSON\",\n",
      "            \"link\": \"https://sistemas.anac.gov.br/dadosabertos/Seguranca%20Operacional/Ocorrencia/V_OCORRENCIA_AMPLA.json\",\n",
      "            \"descricao\": \"Arquivo: Seguran\\u00e7a Operacional - Ocorr\\u00eancias Aeron\\u00e1uticas em formato JSON\",\n",
      "            \"tipo\": \"DADOS\",\n",
      "            \"formato\": \"JSON\"\n",
      "        }\n",
      "    ]\n",
      "}\n"
     ]
    }
   ],
   "source": [
    "url = 'https://dados.gov.br/dados/api/publico/conjuntos-dados/ocorrncias-aeronuticas'\n",
    "\n",
    "# get the response object from the request, parse to a json format by using .json() method\n",
    "# and make it more \"readable\" by using the dump() method from the json library and then assigning\n",
    "# to var -> indented_response.\n",
    "response = requests.get(url, headers=config.headers).json()\n",
    "print(json.dumps(response, indent=4))"
   ],
   "metadata": {
    "collapsed": false,
    "ExecuteTime": {
     "end_time": "2024-03-27T16:05:30.591130Z",
     "start_time": "2024-03-27T16:05:26.856858Z"
    }
   },
   "id": "37166efb54911524",
   "execution_count": 2
  },
  {
   "cell_type": "markdown",
   "source": [
    "Since we can now take a better look at the response we got from the API call, we should seek the relevant part for our project. Usually, when making requests like these the relevant part of data comes in a nested JSON style text, therefore we'll need to search which key contains the information that we'll going to use, and that's why we call `json.dumps()` and pass an `indent` value, otherwise it would be harder to analyse and find the desired `key:pair` value. Going through the JSON we can indentify that the relevant part for us is contained by `recursos` key. So now, let's get some data.\n",
    "\n",
    "    \n",
    "    "
   ],
   "metadata": {
    "collapsed": false
   },
   "id": "bc9698aed5b7c0bf"
  },
  {
   "cell_type": "code",
   "outputs": [
    {
     "name": "stdout",
     "output_type": "stream",
     "text": [
      "[\n",
      "    {\n",
      "        \"id\": \"6de61b5d-f8ce-437b-a549-515f9ef2d8c7\",\n",
      "        \"idConjuntoDados\": \"6fe3fb07-51fb-496a-b3a1-8ef7ba5a3905\",\n",
      "        \"titulo\": \"Metadados do conjunto de dados: Ocorr\\u00eancias Aeron\\u00e1uticas - HTML\",\n",
      "        \"link\": \"https://www.anac.gov.br/acesso-a-informacao/dados-abertos/areas-de-atuacao/seguranca-operacional/ocorrencias-aeronauticas/metadados-do-conjunto-de-dados-ocorrencias-aeronauticas\",\n",
      "        \"descricao\": \"Metadados do conjunto de dados: Ocorr\\u00eancias Aeron\\u00e1uticas em HTML\",\n",
      "        \"tipo\": \"DICIONARIO_DE_DADOS\",\n",
      "        \"formato\": \"HTML\"\n",
      "    },\n",
      "    {\n",
      "        \"id\": \"398a7b43-b3bb-470b-900e-53b28c0370dd\",\n",
      "        \"idConjuntoDados\": \"6fe3fb07-51fb-496a-b3a1-8ef7ba5a3905\",\n",
      "        \"titulo\": \"Arquivo: Seguran\\u00e7a Operacional - Ocorr\\u00eancias Aeron\\u00e1uticas - Formato CSV\",\n",
      "        \"link\": \"https://sistemas.anac.gov.br/dadosabertos/Seguranca%20Operacional/Ocorrencia/V_OCORRENCIA_AMPLA.csv\",\n",
      "        \"descricao\": \"Arquivo: Seguran\\u00e7a Operacional - Ocorr\\u00eancias Aeron\\u00e1uticas em formato CSV\",\n",
      "        \"tipo\": \"DADOS\",\n",
      "        \"formato\": \"CSV\"\n",
      "    },\n",
      "    {\n",
      "        \"id\": \"2f3b4b61-dbcc-4dee-bf22-db78eb82445e\",\n",
      "        \"idConjuntoDados\": \"6fe3fb07-51fb-496a-b3a1-8ef7ba5a3905\",\n",
      "        \"titulo\": \"Arquivo: Seguran\\u00e7a Operacional - Ocorr\\u00eancias Aeron\\u00e1uticas - Formato JSON\",\n",
      "        \"link\": \"https://sistemas.anac.gov.br/dadosabertos/Seguranca%20Operacional/Ocorrencia/V_OCORRENCIA_AMPLA.json\",\n",
      "        \"descricao\": \"Arquivo: Seguran\\u00e7a Operacional - Ocorr\\u00eancias Aeron\\u00e1uticas em formato JSON\",\n",
      "        \"tipo\": \"DADOS\",\n",
      "        \"formato\": \"JSON\"\n",
      "    }\n",
      "]\n"
     ]
    }
   ],
   "source": [
    "print(json.dumps(response['recursos'], indent=4))"
   ],
   "metadata": {
    "collapsed": false,
    "ExecuteTime": {
     "end_time": "2024-03-26T23:31:53.959321Z",
     "start_time": "2024-03-26T23:31:53.954569Z"
    }
   },
   "id": "c87da3ac0a3bb7ba",
   "execution_count": 7
  },
  {
   "cell_type": "markdown",
   "source": [
    "By taking a better look, we can see that the key `recursos` gets us some information about the data and how to access it instead of give us the data itself, so how to get the real data"
   ],
   "metadata": {
    "collapsed": false
   },
   "id": "74a90969d28f520c"
  },
  {
   "cell_type": "code",
   "outputs": [],
   "source": [
    "for dictionary in response['recursos']:\n",
    "    with requests.get(dictionary['link'], headers=config.headers) as req:\n",
    "        with open(f'../data/occurrences.{dictionary['formato'].lower()}', 'wb') as file:\n",
    "            file.write(req.content)"
   ],
   "metadata": {
    "collapsed": false,
    "ExecuteTime": {
     "end_time": "2024-03-27T17:21:58.394754Z",
     "start_time": "2024-03-27T17:21:41.583361Z"
    }
   },
   "id": "4e6820468a7880e1",
   "execution_count": 19
  },
  {
   "cell_type": "code",
   "outputs": [],
   "source": [],
   "metadata": {
    "collapsed": false
   },
   "id": "3a2f178c2d58e29f"
  },
  {
   "cell_type": "code",
   "outputs": [],
   "source": [],
   "metadata": {
    "collapsed": false
   },
   "id": "3c52474ace3f1ec9"
  },
  {
   "cell_type": "code",
   "outputs": [],
   "source": [],
   "metadata": {
    "collapsed": false
   },
   "id": "c0a3c1b6937a82e1"
  },
  {
   "cell_type": "code",
   "outputs": [],
   "source": [],
   "metadata": {
    "collapsed": false
   },
   "id": "331790dd29b076cf"
  },
  {
   "cell_type": "code",
   "outputs": [],
   "source": [],
   "metadata": {
    "collapsed": false
   },
   "id": "cf4bdc227c470d91"
  },
  {
   "cell_type": "code",
   "outputs": [],
   "source": [],
   "metadata": {
    "collapsed": false
   },
   "id": "ce007089df84c88d"
  },
  {
   "cell_type": "code",
   "outputs": [],
   "source": [],
   "metadata": {
    "collapsed": false
   },
   "id": "507594ee4b8ec86"
  },
  {
   "cell_type": "code",
   "outputs": [],
   "source": [],
   "metadata": {
    "collapsed": false
   },
   "id": "e6bede360aaebe0c"
  },
  {
   "cell_type": "code",
   "outputs": [],
   "source": [],
   "metadata": {
    "collapsed": false
   },
   "id": "59d9449bb9514ca"
  },
  {
   "cell_type": "code",
   "outputs": [],
   "source": [],
   "metadata": {
    "collapsed": false
   },
   "id": "151c8ddc5ff990f2"
  },
  {
   "cell_type": "code",
   "outputs": [],
   "source": [],
   "metadata": {
    "collapsed": false
   },
   "id": "2d0a9a7bc556800e"
  },
  {
   "cell_type": "code",
   "outputs": [],
   "source": [],
   "metadata": {
    "collapsed": false
   },
   "id": "abdf9d5794e8fa8a"
  },
  {
   "cell_type": "code",
   "outputs": [],
   "source": [],
   "metadata": {
    "collapsed": false
   },
   "id": "669102718e8f50b1"
  },
  {
   "cell_type": "code",
   "outputs": [
    {
     "data": {
      "text/plain": "[{'id': '6de61b5d-f8ce-437b-a549-515f9ef2d8c7',\n  'idConjuntoDados': '6fe3fb07-51fb-496a-b3a1-8ef7ba5a3905',\n  'titulo': 'Metadados do conjunto de dados: Ocorrências Aeronáuticas - HTML',\n  'link': 'https://www.anac.gov.br/acesso-a-informacao/dados-abertos/areas-de-atuacao/seguranca-operacional/ocorrencias-aeronauticas/metadados-do-conjunto-de-dados-ocorrencias-aeronauticas',\n  'descricao': 'Metadados do conjunto de dados: Ocorrências Aeronáuticas em HTML',\n  'tipo': 'DICIONARIO_DE_DADOS',\n  'formato': 'HTML'},\n {'id': '398a7b43-b3bb-470b-900e-53b28c0370dd',\n  'idConjuntoDados': '6fe3fb07-51fb-496a-b3a1-8ef7ba5a3905',\n  'titulo': 'Arquivo: Segurança Operacional - Ocorrências Aeronáuticas - Formato CSV',\n  'link': 'https://sistemas.anac.gov.br/dadosabertos/Seguranca%20Operacional/Ocorrencia/V_OCORRENCIA_AMPLA.csv',\n  'descricao': 'Arquivo: Segurança Operacional - Ocorrências Aeronáuticas em formato CSV',\n  'tipo': 'DADOS',\n  'formato': 'CSV'},\n {'id': '2f3b4b61-dbcc-4dee-bf22-db78eb82445e',\n  'idConjuntoDados': '6fe3fb07-51fb-496a-b3a1-8ef7ba5a3905',\n  'titulo': 'Arquivo: Segurança Operacional - Ocorrências Aeronáuticas - Formato JSON',\n  'link': 'https://sistemas.anac.gov.br/dadosabertos/Seguranca%20Operacional/Ocorrencia/V_OCORRENCIA_AMPLA.json',\n  'descricao': 'Arquivo: Segurança Operacional - Ocorrências Aeronáuticas em formato JSON',\n  'tipo': 'DADOS',\n  'formato': 'JSON'}]"
     },
     "execution_count": 8,
     "metadata": {},
     "output_type": "execute_result"
    }
   ],
   "source": [
    "json_data = response['recursos']\n",
    "json_data"
   ],
   "metadata": {
    "collapsed": false,
    "ExecuteTime": {
     "end_time": "2024-03-26T23:31:53.980947Z",
     "start_time": "2024-03-26T23:31:53.962329Z"
    }
   },
   "id": "1235802437b38b2c",
   "execution_count": 8
  },
  {
   "cell_type": "code",
   "outputs": [
    {
     "name": "stdout",
     "output_type": "stream",
     "text": [
      "<class 'pandas.core.frame.DataFrame'>\n",
      "RangeIndex: 3 entries, 0 to 2\n",
      "Data columns (total 7 columns):\n",
      " #   Column           Non-Null Count  Dtype \n",
      "---  ------           --------------  ----- \n",
      " 0   id               3 non-null      object\n",
      " 1   idConjuntoDados  3 non-null      object\n",
      " 2   titulo           3 non-null      object\n",
      " 3   link             3 non-null      object\n",
      " 4   descricao        3 non-null      object\n",
      " 5   tipo             3 non-null      object\n",
      " 6   formato          3 non-null      object\n",
      "dtypes: object(7)\n",
      "memory usage: 300.0+ bytes\n"
     ]
    }
   ],
   "source": [
    "raw_data = pd.json_normalize(json_data)\n",
    "raw_data.info()"
   ],
   "metadata": {
    "collapsed": false,
    "ExecuteTime": {
     "end_time": "2024-03-26T23:31:54.029097Z",
     "start_time": "2024-03-26T23:31:53.981958Z"
    }
   },
   "id": "8afa4f6103895155",
   "execution_count": 9
  }
 ],
 "metadata": {
  "kernelspec": {
   "display_name": "Python 3",
   "language": "python",
   "name": "python3"
  },
  "language_info": {
   "codemirror_mode": {
    "name": "ipython",
    "version": 2
   },
   "file_extension": ".py",
   "mimetype": "text/x-python",
   "name": "python",
   "nbconvert_exporter": "python",
   "pygments_lexer": "ipython2",
   "version": "2.7.6"
  }
 },
 "nbformat": 4,
 "nbformat_minor": 5
}
