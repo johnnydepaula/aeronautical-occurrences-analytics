{
 "cells": [
  {
   "cell_type": "markdown",
   "source": [
    "## Aeronautical Occurrences Data Analytics Project\n",
    "This notebook will be our best friend until the end of our project. It will store all the code developed during this period and also explain each stage of development, the paths and choices made, as well as any tips or questions that arise during the process. 📝🤝\n",
    "\n",
    "\n",
    "> **⚠️Important⚠️**: This is a study project, which means that even with my best effort, it can -- and most certainly will -- contain some errors, as in all learning process. So please keep that in mind if using this notebook for any purpose."
   ],
   "metadata": {
    "collapsed": false
   },
   "id": "7451276edc5b7364"
  },
  {
   "cell_type": "markdown",
   "source": [
    "### 1. Introduction\n",
    "Since all countries must have an eye on what happens at their airfields, it wouldn't be any different within Brazil's airspace. This leads us to the **Brazilian Open Data Portal**, that can be accessed and explored by everyone through:\n",
    "```\n",
    "https://dados.gov.br/home\n",
    "```\n",
    "After a few minutes searching, one should be able to find a repository that gathers all public data shared by the brazilian government through this portal. To save some time, here's the link we must look for:\n",
    "```\n",
    "https://dados.gov.br/dados/conjuntos-dados/ocorrncias-aeronuticas\n",
    "```\n",
    "\n",
    "> Note: There's a syntax error on the URL that's been used by the brazilian government. *\"ocorrncias-aeronuticas\"* should be spelled *\"ocorrencias-aeronauticas\"*, so keep an eye for future changes"
   ],
   "metadata": {
    "collapsed": false
   },
   "id": "42459da350b88e1f"
  },
  {
   "cell_type": "markdown",
   "source": [
    "### 2. Getting into action 🏃\n",
    "After this briefily description, let's dive into our hands-on learning project. There's two main ways to gather our data from the source, we can:\n",
    "1. Download it manualy from their site\n",
    "2. Fetch the data from their API, which is built using Swagger\n",
    "\n",
    "Since the 1st one is a little to easy, we'll try to fetch the raw data that we need sending a request to the API. For doing thar we need to take a closer look into it's documentation, that can be found at:\n",
    "```\n",
    "https://dados.gov.br/swagger-ui/index.html#\n",
    "```\n",
    "Also, to be able to make requests to this API, we need a key token that can be generated as you log in to your account at the Data Portal homepage. Once we've done that, we should see something like a button to generate our key. Now that we have our key-token, let's get the data!"
   ],
   "metadata": {
    "collapsed": false
   },
   "id": "fdbeb16ff1e2de3e"
  },
  {
   "cell_type": "markdown",
   "source": [
    "### 2. Extraction\n",
    "In order to fetch, parse and manipulate our data, we must import some essential libraries such as `requests` to make HTTP Requests, and `pandas` to further data manipulation, so here it goes.\n",
    "> Note: The ```import config``` statement is required in order to use confidential information that is stored in a config file, without sharing them as a push this repository to Github."
   ],
   "metadata": {
    "collapsed": false
   },
   "id": "5e78cb1b985a06a0"
  },
  {
   "cell_type": "code",
   "outputs": [],
   "source": [
    "import config\n",
    "import pandas as pd\n",
    "import requests"
   ],
   "metadata": {
    "collapsed": false,
    "ExecuteTime": {
     "end_time": "2024-03-25T07:33:06.767704Z",
     "start_time": "2024-03-25T07:33:06.763543Z"
    }
   },
   "id": "228e0ed71e4a6828",
   "execution_count": 47
  },
  {
   "cell_type": "code",
   "outputs": [],
   "source": [
    "url = 'https://dados.gov.br/dados/api/publico/conjuntos-dados/ocorrncias-aeronuticas'\n",
    "response = requests.get(url, headers=config.headers).json()"
   ],
   "metadata": {
    "collapsed": false,
    "ExecuteTime": {
     "end_time": "2024-03-25T07:33:07.330667Z",
     "start_time": "2024-03-25T07:33:06.775713Z"
    }
   },
   "id": "37166efb54911524",
   "execution_count": 48
  },
  {
   "cell_type": "code",
   "outputs": [
    {
     "name": "stdout",
     "output_type": "stream",
     "text": [
      "dict_keys(['id', 'titulo', 'organizacao', 'inventario', 'descricao', 'licenca', 'responsavel', 'emailResponsavel', 'periodicidade', 'temas', 'tags', 'coberturaTemporalInicio', 'coberturaTemporalFim', 'coberturaEspacial', 'valorCoberturaEspacial', 'granularidadeEspacial', 'versao', 'atualizacaoVersao', 'visibilidade', 'statusHomologacao', 'descontinuado', 'dataDescontinuacao', 'reuso', 'recursos'])\n"
     ]
    }
   ],
   "source": [
    "print(response.keys())"
   ],
   "metadata": {
    "collapsed": false,
    "ExecuteTime": {
     "end_time": "2024-03-25T07:33:07.337210Z",
     "start_time": "2024-03-25T07:33:07.332675Z"
    }
   },
   "id": "bf6badf7d83a2696",
   "execution_count": 49
  },
  {
   "cell_type": "code",
   "outputs": [
    {
     "name": "stdout",
     "output_type": "stream",
     "text": [
      "dict_values(['6fe3fb07-51fb-496a-b3a1-8ef7ba5a3905', 'Ocorrências Aeronáuticas', 'agencia-nacional-de-aviacao-civil-anac', None, 'Contém dados das ocorrências aeronáuticas enviadas pela Força Aérea Brasileira por meio do CENIPA para a ANAC acrescido de informações enriquecidas pela ANAC.', 'odc-odbl', 'Assessoria de Segurança Operacional - ASSOP', 'assop@anac.gov.br', 'DIARIA', [{'name': 'defesa-e-seguranca', 'title': 'Defesa e Segurança'}, {'name': 'transportes-e-transito', 'title': 'Transportes e Trânsito'}], [{'id': '590faac4-b214-441e-a9ae-490be21d0166', 'name': 'ANAC', 'display_name': None}, {'id': '824ec366-b036-4073-a88a-46cd15d6c93a', 'name': 'Aviação Civil', 'display_name': None}, {'id': '60b7699d-9a26-433a-92b2-9c61460f8b7f', 'name': 'Segurança', 'display_name': None}, {'id': '14b3a544-9341-4a57-b8ed-3efe35f6c04a', 'name': 'aviação', 'display_name': None}], None, None, None, None, None, '1', False, 'PUBLICA', 'HOMOLOGADO', False, None, False, [{'id': '6de61b5d-f8ce-437b-a549-515f9ef2d8c7', 'idConjuntoDados': '6fe3fb07-51fb-496a-b3a1-8ef7ba5a3905', 'titulo': 'Metadados do conjunto de dados: Ocorrências Aeronáuticas - HTML', 'link': 'https://www.anac.gov.br/acesso-a-informacao/dados-abertos/areas-de-atuacao/seguranca-operacional/ocorrencias-aeronauticas/metadados-do-conjunto-de-dados-ocorrencias-aeronauticas', 'descricao': 'Metadados do conjunto de dados: Ocorrências Aeronáuticas em HTML', 'tipo': 'DICIONARIO_DE_DADOS', 'formato': 'HTML'}, {'id': '398a7b43-b3bb-470b-900e-53b28c0370dd', 'idConjuntoDados': '6fe3fb07-51fb-496a-b3a1-8ef7ba5a3905', 'titulo': 'Arquivo: Segurança Operacional - Ocorrências Aeronáuticas - Formato CSV', 'link': 'https://sistemas.anac.gov.br/dadosabertos/Seguranca%20Operacional/Ocorrencia/V_OCORRENCIA_AMPLA.csv', 'descricao': 'Arquivo: Segurança Operacional - Ocorrências Aeronáuticas em formato CSV', 'tipo': 'DADOS', 'formato': 'CSV'}, {'id': '2f3b4b61-dbcc-4dee-bf22-db78eb82445e', 'idConjuntoDados': '6fe3fb07-51fb-496a-b3a1-8ef7ba5a3905', 'titulo': 'Arquivo: Segurança Operacional - Ocorrências Aeronáuticas - Formato JSON', 'link': 'https://sistemas.anac.gov.br/dadosabertos/Seguranca%20Operacional/Ocorrencia/V_OCORRENCIA_AMPLA.json', 'descricao': 'Arquivo: Segurança Operacional - Ocorrências Aeronáuticas em formato JSON', 'tipo': 'DADOS', 'formato': 'JSON'}]])\n"
     ]
    }
   ],
   "source": [
    "print(response.values())"
   ],
   "metadata": {
    "collapsed": false,
    "ExecuteTime": {
     "end_time": "2024-03-25T07:33:07.343700Z",
     "start_time": "2024-03-25T07:33:07.338222Z"
    }
   },
   "id": "1cc1e4f5f0468c4a",
   "execution_count": 50
  },
  {
   "cell_type": "code",
   "outputs": [
    {
     "name": "stdout",
     "output_type": "stream",
     "text": [
      "{'id': '398a7b43-b3bb-470b-900e-53b28c0370dd', 'idConjuntoDados': '6fe3fb07-51fb-496a-b3a1-8ef7ba5a3905', 'titulo': 'Arquivo: Segurança Operacional - Ocorrências Aeronáuticas - Formato CSV', 'link': 'https://sistemas.anac.gov.br/dadosabertos/Seguranca%20Operacional/Ocorrencia/V_OCORRENCIA_AMPLA.csv', 'descricao': 'Arquivo: Segurança Operacional - Ocorrências Aeronáuticas em formato CSV', 'tipo': 'DADOS', 'formato': 'CSV'}\n"
     ]
    }
   ],
   "source": [
    "print(response['recursos'][1])"
   ],
   "metadata": {
    "collapsed": false,
    "ExecuteTime": {
     "end_time": "2024-03-25T07:33:07.350506Z",
     "start_time": "2024-03-25T07:33:07.345708Z"
    }
   },
   "id": "1235802437b38b2c",
   "execution_count": 51
  }
 ],
 "metadata": {
  "kernelspec": {
   "display_name": "Python 3",
   "language": "python",
   "name": "python3"
  },
  "language_info": {
   "codemirror_mode": {
    "name": "ipython",
    "version": 2
   },
   "file_extension": ".py",
   "mimetype": "text/x-python",
   "name": "python",
   "nbconvert_exporter": "python",
   "pygments_lexer": "ipython2",
   "version": "2.7.6"
  }
 },
 "nbformat": 4,
 "nbformat_minor": 5
}
