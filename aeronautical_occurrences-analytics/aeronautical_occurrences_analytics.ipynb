{
 "cells": [
  {
   "cell_type": "markdown",
   "source": [
    "# Aeronautical Occurrences Data Analytics Project\n",
    "This notebook will be our best friend until the end of our project. It will store all the code developed during this period and also explain each stage of development, the paths and choices made, as well as any tips or questions that arise during the process. 📝🤝\n",
    "\n",
    "\n",
    "> **⚠️Important⚠️**: This is a study project, which means that even with my best effort, it can -- and most certainly will -- contain some errors, as in all learning process. So please keep that in mind if using this notebook for any purpose."
   ],
   "metadata": {
    "collapsed": false
   },
   "id": "7451276edc5b7364"
  },
  {
   "cell_type": "markdown",
   "source": [
    "## Introduction\n",
    "Since all countries must have an eye on what happens at their airfields, it wouldn't be any different within Brazil's airspace. This leads us to the **Brazilian Open Data Portal**, that can be accessed and explored by everyone through:\n",
    "```\n",
    "https://dados.gov.br/home\n",
    "```\n",
    "After a few minutes searching, one should be able to find a repository that gathers all public data shared by the brazilian government through this portal. To save some time, here's the link we must look for:\n",
    "```\n",
    "https://dados.gov.br/dados/conjuntos-dados/ocorrncias-aeronuticas\n",
    "```\n",
    "\n",
    "> Note: There's a syntax error on the URL that's been used by the brazilian government. *\"ocorrncias-aeronuticas\"* should be spelled *\"ocorrencias-aeronauticas\"*, so keep an eye for future changes"
   ],
   "metadata": {
    "collapsed": false
   },
   "id": "42459da350b88e1f"
  },
  {
   "cell_type": "markdown",
   "source": [
    "## Getting into action 🏃\n",
    "After this briefily description, let's dive into our hands-on learning project. There's two main ways to gather our data from the source, we can:\n",
    "1. Download it manualy from their site\n",
    "2. Fetch the data from their API, which is built using Swagger\n",
    "\n",
    "Since the 1st one is a little to easy, we'll try to fetch the raw data that we need sending a request to the API. For doing thar we need to take a closer look into it's documentation, that can be found at:\n",
    "```\n",
    "https://dados.gov.br/swagger-ui/index.html#\n",
    "```\n",
    "Also, to be able to make requests to this API, we need a key token that can be generated as you log in to your account at the Data Portal homepage. Once we've done that, we should see something like a button to generate our key."
   ],
   "metadata": {
    "collapsed": false
   },
   "id": "fdbeb16ff1e2de3e"
  },
  {
   "cell_type": "code",
   "outputs": [],
   "source": [],
   "metadata": {
    "collapsed": false
   },
   "id": "96837f757f775b4f"
  }
 ],
 "metadata": {
  "kernelspec": {
   "display_name": "Python 3",
   "language": "python",
   "name": "python3"
  },
  "language_info": {
   "codemirror_mode": {
    "name": "ipython",
    "version": 2
   },
   "file_extension": ".py",
   "mimetype": "text/x-python",
   "name": "python",
   "nbconvert_exporter": "python",
   "pygments_lexer": "ipython2",
   "version": "2.7.6"
  }
 },
 "nbformat": 4,
 "nbformat_minor": 5
}
