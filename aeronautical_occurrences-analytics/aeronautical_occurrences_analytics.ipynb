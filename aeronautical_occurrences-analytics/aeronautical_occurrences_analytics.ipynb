{
 "cells": [
  {
   "cell_type": "markdown",
   "source": [
    "## Aeronautical Occurrences Data Analytics Project\n",
    "This notebook will be our best friend until the end of our project. It will store all the code developed during this period and also explain each stage of development, the paths and choices made, as well as any tips or questions that arise during the process. 📝🤝\n",
    "\n",
    "\n",
    "> **⚠️Important⚠️**: This is a study project, which means that even with my best effort, it can -- and most certainly will -- contain some errors, as in all learning process. So please keep that in mind if using this notebook for any purpose."
   ],
   "metadata": {
    "collapsed": false
   },
   "id": "7451276edc5b7364"
  },
  {
   "cell_type": "markdown",
   "source": [
    "### 1. Introduction\n",
    "Since all countries must have an eye on what happens at their airfields, it wouldn't be any different within Brazil's airspace. This leads us to the **Brazilian Open Data Portal**, that can be accessed and explored by everyone through:\n",
    "```\n",
    "https://dados.gov.br/home\n",
    "```\n",
    "After a few minutes searching, one should be able to find a repository that gathers all public data shared by the brazilian government through this portal. To save some time, here's the link we must look for:\n",
    "```\n",
    "https://dados.gov.br/dados/conjuntos-dados/ocorrncias-aeronuticas\n",
    "```\n",
    "\n",
    "> Note: There's a syntax error on the URL that's been used by the brazilian government. *\"ocorrncias-aeronuticas\"* should be spelled *\"ocorrencias-aeronauticas\"*, so keep an eye for future changes"
   ],
   "metadata": {
    "collapsed": false
   },
   "id": "42459da350b88e1f"
  },
  {
   "cell_type": "markdown",
   "source": [
    "### 2. Getting into action 🏃\n",
    "After this briefily description, let's dive into our hands-on learning project. There's two main ways to gather our data from the source, we can:\n",
    "1. Download it manualy from their site\n",
    "2. Fetch the data from their API, which is built using Swagger\n",
    "\n",
    "Since the 1st one is a little to easy, we'll try to fetch the raw data that we need sending a request to the API. For doing thar we need to take a closer look into it's documentation, that can be found at:\n",
    "```\n",
    "https://dados.gov.br/swagger-ui/index.html#\n",
    "```\n",
    "Also, to be able to make requests to this API, we need a key token that can be generated as you log in to your account at the Data Portal homepage. Once we've done that, we should see something like a button to generate our key. Now that we have our key-token, let's get the data!"
   ],
   "metadata": {
    "collapsed": false
   },
   "id": "fdbeb16ff1e2de3e"
  },
  {
   "cell_type": "markdown",
   "source": [
    "### 2. Extraction\n",
    "In order to fetch, parse and manipulate our data, we must import some essential libraries such as `requests` to make HTTP Requests, and `pandas` to further data manipulation. We can also import `json` since we're to further manipulate JSON data, so here it goes.\n",
    "> Note: The ```import config``` statement is required in order to use confidential information that is stored in a config file, without sharing them as a push this repository to Github."
   ],
   "metadata": {
    "collapsed": false
   },
   "id": "5e78cb1b985a06a0"
  },
  {
   "cell_type": "code",
   "outputs": [],
   "source": [
    "import config\n",
    "import pandas as pd\n",
    "import requests\n",
    "import json"
   ],
   "metadata": {
    "collapsed": false,
    "ExecuteTime": {
     "end_time": "2024-03-28T01:08:01.986468Z",
     "start_time": "2024-03-28T01:08:01.161331Z"
    }
   },
   "id": "228e0ed71e4a6828",
   "execution_count": 2
  },
  {
   "cell_type": "markdown",
   "source": [
    "The code below makes a GET request to the government public data API using `requests`. For this GET request we're passing 2 arguments, the url itself and some headers such as shown bellow:\n",
    "```\n",
    "headers = {\n",
    "    'accept': 'application/json',\n",
    "    'chave-api-dados-abertos': 'YOUR_OPEN_DATA_KEY_API'\n",
    "}\n",
    "```\n",
    "For confidentiality matters I saved these headers in a config file as already mentioned above, but feel free to add your own key to fetch data, you'll just need to change the param `headers=config.headers` to `headers=headers`, if you decide to add the above snippet to your code. You can also pass these directly as argument for `headers` as:\n",
    "```\n",
    "response = requests.get(url, headers={\n",
    "                                 'accept': 'application/json',\n",
    "                                 'chave-api-dados-abertos': 'YOUR_OPEN_DATA_KEY_API'\n",
    "                                 }).json()\n",
    "```"
   ],
   "metadata": {
    "collapsed": false
   },
   "id": "ea212b41eaf72cf6"
  },
  {
   "cell_type": "code",
   "outputs": [
    {
     "name": "stdout",
     "output_type": "stream",
     "text": [
      "{\n",
      "    \"id\": \"6fe3fb07-51fb-496a-b3a1-8ef7ba5a3905\",\n",
      "    \"titulo\": \"Ocorr\\u00eancias Aeron\\u00e1uticas\",\n",
      "    \"organizacao\": \"agencia-nacional-de-aviacao-civil-anac\",\n",
      "    \"inventario\": null,\n",
      "    \"descricao\": \"Cont\\u00e9m dados das ocorr\\u00eancias aeron\\u00e1uticas enviadas pela For\\u00e7a A\\u00e9rea Brasileira por meio do CENIPA para a ANAC acrescido de informa\\u00e7\\u00f5es enriquecidas pela ANAC.\",\n",
      "    \"licenca\": \"odc-odbl\",\n",
      "    \"responsavel\": \"Assessoria de Seguran\\u00e7a Operacional - ASSOP\",\n",
      "    \"emailResponsavel\": \"assop@anac.gov.br\",\n",
      "    \"periodicidade\": \"DIARIA\",\n",
      "    \"temas\": [\n",
      "        {\n",
      "            \"name\": \"defesa-e-seguranca\",\n",
      "            \"title\": \"Defesa e Seguran\\u00e7a\"\n",
      "        },\n",
      "        {\n",
      "            \"name\": \"transportes-e-transito\",\n",
      "            \"title\": \"Transportes e Tr\\u00e2nsito\"\n",
      "        }\n",
      "    ],\n",
      "    \"tags\": [\n",
      "        {\n",
      "            \"id\": \"590faac4-b214-441e-a9ae-490be21d0166\",\n",
      "            \"name\": \"ANAC\",\n",
      "            \"display_name\": null\n",
      "        },\n",
      "        {\n",
      "            \"id\": \"824ec366-b036-4073-a88a-46cd15d6c93a\",\n",
      "            \"name\": \"Avia\\u00e7\\u00e3o Civil\",\n",
      "            \"display_name\": null\n",
      "        },\n",
      "        {\n",
      "            \"id\": \"60b7699d-9a26-433a-92b2-9c61460f8b7f\",\n",
      "            \"name\": \"Seguran\\u00e7a\",\n",
      "            \"display_name\": null\n",
      "        },\n",
      "        {\n",
      "            \"id\": \"14b3a544-9341-4a57-b8ed-3efe35f6c04a\",\n",
      "            \"name\": \"avia\\u00e7\\u00e3o\",\n",
      "            \"display_name\": null\n",
      "        }\n",
      "    ],\n",
      "    \"coberturaTemporalInicio\": null,\n",
      "    \"coberturaTemporalFim\": null,\n",
      "    \"coberturaEspacial\": null,\n",
      "    \"valorCoberturaEspacial\": null,\n",
      "    \"granularidadeEspacial\": null,\n",
      "    \"versao\": \"1\",\n",
      "    \"atualizacaoVersao\": false,\n",
      "    \"visibilidade\": \"PUBLICA\",\n",
      "    \"statusHomologacao\": \"HOMOLOGADO\",\n",
      "    \"descontinuado\": false,\n",
      "    \"dataDescontinuacao\": null,\n",
      "    \"reuso\": false,\n",
      "    \"recursos\": [\n",
      "        {\n",
      "            \"id\": \"6de61b5d-f8ce-437b-a549-515f9ef2d8c7\",\n",
      "            \"idConjuntoDados\": \"6fe3fb07-51fb-496a-b3a1-8ef7ba5a3905\",\n",
      "            \"titulo\": \"Metadados do conjunto de dados: Ocorr\\u00eancias Aeron\\u00e1uticas - HTML\",\n",
      "            \"link\": \"https://www.anac.gov.br/acesso-a-informacao/dados-abertos/areas-de-atuacao/seguranca-operacional/ocorrencias-aeronauticas/metadados-do-conjunto-de-dados-ocorrencias-aeronauticas\",\n",
      "            \"descricao\": \"Metadados do conjunto de dados: Ocorr\\u00eancias Aeron\\u00e1uticas em HTML\",\n",
      "            \"tipo\": \"DICIONARIO_DE_DADOS\",\n",
      "            \"formato\": \"HTML\"\n",
      "        },\n",
      "        {\n",
      "            \"id\": \"398a7b43-b3bb-470b-900e-53b28c0370dd\",\n",
      "            \"idConjuntoDados\": \"6fe3fb07-51fb-496a-b3a1-8ef7ba5a3905\",\n",
      "            \"titulo\": \"Arquivo: Seguran\\u00e7a Operacional - Ocorr\\u00eancias Aeron\\u00e1uticas - Formato CSV\",\n",
      "            \"link\": \"https://sistemas.anac.gov.br/dadosabertos/Seguranca%20Operacional/Ocorrencia/V_OCORRENCIA_AMPLA.csv\",\n",
      "            \"descricao\": \"Arquivo: Seguran\\u00e7a Operacional - Ocorr\\u00eancias Aeron\\u00e1uticas em formato CSV\",\n",
      "            \"tipo\": \"DADOS\",\n",
      "            \"formato\": \"CSV\"\n",
      "        },\n",
      "        {\n",
      "            \"id\": \"2f3b4b61-dbcc-4dee-bf22-db78eb82445e\",\n",
      "            \"idConjuntoDados\": \"6fe3fb07-51fb-496a-b3a1-8ef7ba5a3905\",\n",
      "            \"titulo\": \"Arquivo: Seguran\\u00e7a Operacional - Ocorr\\u00eancias Aeron\\u00e1uticas - Formato JSON\",\n",
      "            \"link\": \"https://sistemas.anac.gov.br/dadosabertos/Seguranca%20Operacional/Ocorrencia/V_OCORRENCIA_AMPLA.json\",\n",
      "            \"descricao\": \"Arquivo: Seguran\\u00e7a Operacional - Ocorr\\u00eancias Aeron\\u00e1uticas em formato JSON\",\n",
      "            \"tipo\": \"DADOS\",\n",
      "            \"formato\": \"JSON\"\n",
      "        }\n",
      "    ]\n",
      "}\n"
     ]
    }
   ],
   "source": [
    "url = 'https://dados.gov.br/dados/api/publico/conjuntos-dados/ocorrncias-aeronuticas'\n",
    "\n",
    "# get the response object from the request, parse to a json format by using .json() method\n",
    "# and make it more \"readable\" by using the dump() method from the json library and then assigning\n",
    "# to var -> indented_response.\n",
    "response = requests.get(url, headers=config.headers).json()\n",
    "print(json.dumps(response, indent=4))"
   ],
   "metadata": {
    "collapsed": false,
    "ExecuteTime": {
     "end_time": "2024-03-27T17:34:12.780044Z",
     "start_time": "2024-03-27T17:34:12.222586Z"
    }
   },
   "id": "37166efb54911524",
   "execution_count": 2
  },
  {
   "cell_type": "markdown",
   "source": [
    "Since we can now take a better look at the response we got from the API call, we should seek the relevant part for our project. Usually, when making requests like these the relevant part of data comes in a nested JSON style text, therefore we'll need to search which key contains the information that we'll going to use, and that's why we call `json.dumps()` and pass an `indent` value, otherwise it would be harder to analyse and find the desired `key:pair` value. Going through the JSON we can indentify that the relevant part for us is contained by `recursos` key. So now, let's get some data.\n",
    "\n",
    "    \n",
    "    "
   ],
   "metadata": {
    "collapsed": false
   },
   "id": "bc9698aed5b7c0bf"
  },
  {
   "cell_type": "code",
   "outputs": [
    {
     "name": "stdout",
     "output_type": "stream",
     "text": [
      "[\n",
      "    {\n",
      "        \"id\": \"6de61b5d-f8ce-437b-a549-515f9ef2d8c7\",\n",
      "        \"idConjuntoDados\": \"6fe3fb07-51fb-496a-b3a1-8ef7ba5a3905\",\n",
      "        \"titulo\": \"Metadados do conjunto de dados: Ocorr\\u00eancias Aeron\\u00e1uticas - HTML\",\n",
      "        \"link\": \"https://www.anac.gov.br/acesso-a-informacao/dados-abertos/areas-de-atuacao/seguranca-operacional/ocorrencias-aeronauticas/metadados-do-conjunto-de-dados-ocorrencias-aeronauticas\",\n",
      "        \"descricao\": \"Metadados do conjunto de dados: Ocorr\\u00eancias Aeron\\u00e1uticas em HTML\",\n",
      "        \"tipo\": \"DICIONARIO_DE_DADOS\",\n",
      "        \"formato\": \"HTML\"\n",
      "    },\n",
      "    {\n",
      "        \"id\": \"398a7b43-b3bb-470b-900e-53b28c0370dd\",\n",
      "        \"idConjuntoDados\": \"6fe3fb07-51fb-496a-b3a1-8ef7ba5a3905\",\n",
      "        \"titulo\": \"Arquivo: Seguran\\u00e7a Operacional - Ocorr\\u00eancias Aeron\\u00e1uticas - Formato CSV\",\n",
      "        \"link\": \"https://sistemas.anac.gov.br/dadosabertos/Seguranca%20Operacional/Ocorrencia/V_OCORRENCIA_AMPLA.csv\",\n",
      "        \"descricao\": \"Arquivo: Seguran\\u00e7a Operacional - Ocorr\\u00eancias Aeron\\u00e1uticas em formato CSV\",\n",
      "        \"tipo\": \"DADOS\",\n",
      "        \"formato\": \"CSV\"\n",
      "    },\n",
      "    {\n",
      "        \"id\": \"2f3b4b61-dbcc-4dee-bf22-db78eb82445e\",\n",
      "        \"idConjuntoDados\": \"6fe3fb07-51fb-496a-b3a1-8ef7ba5a3905\",\n",
      "        \"titulo\": \"Arquivo: Seguran\\u00e7a Operacional - Ocorr\\u00eancias Aeron\\u00e1uticas - Formato JSON\",\n",
      "        \"link\": \"https://sistemas.anac.gov.br/dadosabertos/Seguranca%20Operacional/Ocorrencia/V_OCORRENCIA_AMPLA.json\",\n",
      "        \"descricao\": \"Arquivo: Seguran\\u00e7a Operacional - Ocorr\\u00eancias Aeron\\u00e1uticas em formato JSON\",\n",
      "        \"tipo\": \"DADOS\",\n",
      "        \"formato\": \"JSON\"\n",
      "    }\n",
      "]\n"
     ]
    }
   ],
   "source": [
    "print(json.dumps(response['recursos'], indent=4))"
   ],
   "metadata": {
    "collapsed": false,
    "ExecuteTime": {
     "end_time": "2024-03-27T17:34:12.785981Z",
     "start_time": "2024-03-27T17:34:12.781053Z"
    }
   },
   "id": "c87da3ac0a3bb7ba",
   "execution_count": 3
  },
  {
   "cell_type": "markdown",
   "source": [
    "By taking a better look, we can see that the key `recursos` gets us some information about the data and how to access it instead of give us the data itself, so you might ask \"And how do I get the real data???\". Well, let's dive into it."
   ],
   "metadata": {
    "collapsed": false
   },
   "id": "74a90969d28f520c"
  },
  {
   "cell_type": "markdown",
   "source": [
    "As we now know that `recursos` key brings us a list of `dicts`, we could iterate through it and its dictionaries, get the keys we want and save the data in to a file. In this case, I opt to make another request to the URL that the key `\"link\": 'URL'` gives us, and write the response into a JSON file, since I'll be working with JSON in this case. Feel free to try it out with the CSV format as it's also possible in this scenario. The code I create for this process is shown bellow."
   ],
   "metadata": {
    "collapsed": false
   },
   "id": "8b84ca1947582edb"
  },
  {
   "cell_type": "code",
   "outputs": [],
   "source": [
    "for dictionary in response['recursos']:\n",
    "    with requests.get(dictionary['link'], headers=config.headers) as req:\n",
    "        with open(f'../data/occurrences.{dictionary['formato'].lower()}', 'wb') as file:\n",
    "            file.write(req.content)"
   ],
   "metadata": {
    "collapsed": false,
    "ExecuteTime": {
     "end_time": "2024-03-27T17:34:31.382624Z",
     "start_time": "2024-03-27T17:34:12.786991Z"
    }
   },
   "id": "4e6820468a7880e1",
   "execution_count": 4
  },
  {
   "cell_type": "code",
   "outputs": [],
   "source": [
    "# try to figure it out later: \n",
    "# 1st. - Why I can't read this .json file into a dataframe\n",
    "# 2st. - \n",
    "with open('../data/occurrences.json', 'rb') as file:\n",
    "    raw_data = json.load(file)"
   ],
   "metadata": {
    "collapsed": false,
    "ExecuteTime": {
     "end_time": "2024-03-28T01:21:25.348765Z",
     "start_time": "2024-03-28T01:21:24.966141Z"
    }
   },
   "id": "28d539c0dd452873",
   "execution_count": 11
  },
  {
   "cell_type": "code",
   "outputs": [
    {
     "name": "stdout",
     "output_type": "stream",
     "text": [
      "<class 'pandas.core.frame.DataFrame'>\n",
      "RangeIndex: 13822 entries, 0 to 13821\n",
      "Data columns (total 45 columns):\n",
      " #   Column                            Non-Null Count  Dtype  \n",
      "---  ------                            --------------  -----  \n",
      " 0   Numero_da_Ocorrencia              13822 non-null  int64  \n",
      " 1   Numero_da_Ficha                   13819 non-null  object \n",
      " 2   Operador_Padronizado              13678 non-null  object \n",
      " 3   Classificacao_da_Ocorrencia       13822 non-null  object \n",
      " 4   Data_da_Ocorrencia                13822 non-null  object \n",
      " 5   Hora_da_Ocorrencia                10167 non-null  object \n",
      " 6   Municipio                         10123 non-null  object \n",
      " 7   UF                                13804 non-null  object \n",
      " 8   Regiao                            13070 non-null  object \n",
      " 9   Descricao_do_Tipo                 10804 non-null  object \n",
      " 10  ICAO                              5005 non-null   object \n",
      " 11  Latitude                          9823 non-null   object \n",
      " 12  Longitude                         9815 non-null   object \n",
      " 13  Tipo_de_Aerodromo                 4859 non-null   object \n",
      " 14  Historico                         13540 non-null  object \n",
      " 15  Matricula                         13775 non-null  object \n",
      " 16  Categoria_da_Aeronave             13734 non-null  object \n",
      " 17  Operador                          13678 non-null  object \n",
      " 18  Tipo_de_Ocorrencia                10804 non-null  object \n",
      " 19  Fase_da_Operacao                  10426 non-null  object \n",
      " 20  Operacao                          13692 non-null  object \n",
      " 21  Danos_a_Aeronave                  10072 non-null  object \n",
      " 22  Aerodromo_de_Destino              8988 non-null   object \n",
      " 23  Aerodromo_de_Origem               9060 non-null   object \n",
      " 24  Lesoes_Fatais_Tripulantes         9485 non-null   float64\n",
      " 25  Lesoes_Fatais_Passageiros         9421 non-null   float64\n",
      " 26  Lesoes_Fatais_Terceiros           9366 non-null   float64\n",
      " 27  Lesoes_Graves_Tripulantes         9435 non-null   float64\n",
      " 28  Lesoes_Graves_Passageiros         9379 non-null   float64\n",
      " 29  Lesoes_Graves_Terceiros           9359 non-null   float64\n",
      " 30  Lesoes_Leves_Tripulantes          9485 non-null   float64\n",
      " 31  Lesoes_Leves_Passageiros          9386 non-null   float64\n",
      " 32  Lesoes_Leves_Terceiros            9358 non-null   float64\n",
      " 33  Ilesos_Tripulantes                11780 non-null  float64\n",
      " 34  Ilesos_Passageiros                10723 non-null  float64\n",
      " 35  Lesoes_Desconhecidas_Tripulantes  9372 non-null   float64\n",
      " 36  Lesoes_Desconhecidas_Passageiros  9362 non-null   float64\n",
      " 37  Lesoes_Desconhecidas_Terceiros    9362 non-null   float64\n",
      " 38  Modelo                            13376 non-null  object \n",
      " 39  CLS                               13355 non-null  object \n",
      " 40  Tipo_ICAO                         13376 non-null  object \n",
      " 41  PMD                               13396 non-null  float64\n",
      " 42  Numero_de_Assentos                13385 non-null  float64\n",
      " 43  Nome_do_Fabricante                13229 non-null  object \n",
      " 44  PSSO                              13822 non-null  object \n",
      "dtypes: float64(16), int64(1), object(28)\n",
      "memory usage: 4.7+ MB\n"
     ]
    }
   ],
   "source": [
    "raw_df = pd.read_csv('../data/occurrences.csv', sep=';', skiprows=1)\n",
    "raw_df.info()"
   ],
   "metadata": {
    "collapsed": false,
    "ExecuteTime": {
     "end_time": "2024-03-28T01:33:04.308243Z",
     "start_time": "2024-03-28T01:33:04.050731Z"
    }
   },
   "id": "1ac6aaef25bc122c",
   "execution_count": 23
  },
  {
   "cell_type": "code",
   "outputs": [],
   "source": [],
   "metadata": {
    "collapsed": false
   },
   "id": "31333d87e80c0287"
  }
 ],
 "metadata": {
  "kernelspec": {
   "display_name": "Python 3",
   "language": "python",
   "name": "python3"
  },
  "language_info": {
   "codemirror_mode": {
    "name": "ipython",
    "version": 2
   },
   "file_extension": ".py",
   "mimetype": "text/x-python",
   "name": "python",
   "nbconvert_exporter": "python",
   "pygments_lexer": "ipython2",
   "version": "2.7.6"
  }
 },
 "nbformat": 4,
 "nbformat_minor": 5
}
